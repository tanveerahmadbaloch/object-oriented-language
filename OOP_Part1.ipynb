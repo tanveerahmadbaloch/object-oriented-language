{
  "nbformat": 4,
  "nbformat_minor": 0,
  "metadata": {
    "colab": {
      "provenance": []
    },
    "kernelspec": {
      "name": "python3",
      "display_name": "Python 3"
    },
    "language_info": {
      "name": "python"
    }
  },
  "cells": [
    {
      "cell_type": "code",
      "execution_count": null,
      "metadata": {
        "id": "tcX1dsvNlyHU"
      },
      "outputs": [],
      "source": [
        "class ATM:\n",
        "  #constructor\n",
        "  def __int__(self):\n",
        "    self.pin=''\n",
        "    self.balance=0\n",
        "    self.menu()\n",
        "\n",
        "  def menu(self):\n",
        "    user_input=input(\"\"\"\n",
        "    hy how i can help you?\n",
        "    1-create pin press 1\n",
        "    2-press 2 change pin\n",
        "    3-press 3 check balance\n",
        "    4-press 4 withdraw\n",
        "    5-exit\n",
        "    \"\"\")\n",
        "    if user_input==1:\n",
        "      self.create_pin()\n",
        "    elif user_input==2:\n",
        "      self.change_pin()\n",
        "    elif user_input==3:\n",
        "      self.check_balance()\n",
        "    elif user_input==4:\n",
        "      self.withdraw()\n",
        "    else:\n",
        "      exit()\n",
        "\n",
        "  def create_pin(self):\n",
        "    user_pin=input('enter your pin')\n",
        "    self.pin=user_pin\n",
        "\n",
        "    user_balance=int(input('enter your balance'))\n",
        "    self.balance=user_balance\n",
        "\n",
        "    print('pin created sucessfully')\n",
        "    self.menu()\n",
        "\n",
        "  def change_pin(self):\n",
        "    old_pin=input('enter your old pin')\n",
        "\n",
        "    if old_pin==self.pin:\n",
        "      new_pin=input('enter new pin')\n",
        "      self.pin=new_pin\n",
        "    else:\n",
        "      print('you cant do this')\n",
        "      self.menu()\n",
        "\n",
        "  def check_balance(self):\n",
        "    user_pin=input('your balance')\n",
        "    if user_pin==self.pin:\n",
        "      print('your balance',self.balance)\n",
        "    else:\n",
        "      print('your balance is unsufficient')\n",
        "  def withdraw(self):\n",
        "    user_pin=input('enter your pin')\n",
        "    if user_pin==self.pin:\n",
        "      amount=int(input('enter amount'))\n",
        "      if amount<=self.balance:\n",
        "        self_balance=self_balance-amount\n",
        "        print('sucessful',self.balance)\n",
        "      else:\n",
        "        print('greeb')\n",
        "    else:\n",
        "      print('choor')\n",
        "    self.menu()"
      ]
    },
    {
      "cell_type": "code",
      "source": [
        "obj=ATM"
      ],
      "metadata": {
        "id": "04enP3rVoXza"
      },
      "execution_count": null,
      "outputs": []
    },
    {
      "cell_type": "code",
      "source": [
        "class ATM:\n",
        "    def __init__(self):\n",
        "        self.pin = None\n",
        "        self.balance = None\n",
        "\n",
        "    def enter_pin(self):\n",
        "        self.pin = input('Enter your PIN: ')\n",
        "\n",
        "    def enter_balance(self):\n",
        "        self.balance = int(input('Enter your balance: '))\n",
        "\n",
        "    def menu(self):\n",
        "        user_input = input(\"\"\"\n",
        "        Hi, how can I help you?\n",
        "        1 - Create PIN\n",
        "        2 - Change PIN\n",
        "        3 - Check Balance\n",
        "        4 - Withdraw\n",
        "        5 - Exit\n",
        "        \"\"\")\n",
        "        if user_input == \"1\":\n",
        "            self.create_pin()\n",
        "        elif user_input == \"2\":\n",
        "            self.change_pin()\n",
        "        elif user_input == \"3\":\n",
        "            self.check_balance()\n",
        "        elif user_input == \"4\":\n",
        "            self.withdraw()\n",
        "        else:\n",
        "            exit()\n",
        "\n",
        "    def create_pin(self):\n",
        "        if self.pin is None:\n",
        "            self.enter_pin()\n",
        "\n",
        "        self.enter_balance()\n",
        "\n",
        "        print('PIN created successfully')\n",
        "\n",
        "    def change_pin(self):\n",
        "        if self.pin is not None:\n",
        "            old_pin = input('Enter your old PIN: ')\n",
        "\n",
        "            if old_pin == self.pin:\n",
        "                new_pin = input('Enter new PIN: ')\n",
        "                self.pin = new_pin\n",
        "            else:\n",
        "                print('Incorrect PIN')\n",
        "\n",
        "    def check_balance(self):\n",
        "        if self.pin is not None:\n",
        "            user_pin = input('Enter your PIN: ')\n",
        "            if user_pin == self.pin:\n",
        "                print('Your balance:', self.balance)\n",
        "            else:\n",
        "                print('Incorrect PIN')\n",
        "\n",
        "    def withdraw(self):\n",
        "        if self.pin is not None:\n",
        "            user_pin = input('Enter your PIN: ')\n",
        "            if user_pin == self.pin:\n",
        "                amount = int(input('Enter amount: '))\n",
        "                if amount <= self.balance:\n",
        "                    self.balance -= amount\n",
        "                    print('Withdrawal successful. Remaining balance:', self.balance)\n",
        "                else:\n",
        "                    print('Insufficient balance')\n",
        "            else:\n",
        "                print('Incorrect PIN')\n",
        "        else:\n",
        "            print('Enter PIN first')\n",
        "\n",
        "\n",
        "# Usage:\n",
        "\n"
      ],
      "metadata": {
        "colab": {
          "base_uri": "https://localhost:8080/"
        },
        "id": "mSWN8DX6D-Tt",
        "outputId": "dfead4d7-fb0c-4684-c0e8-a8b470fb192b"
      },
      "execution_count": null,
      "outputs": [
        {
          "output_type": "stream",
          "name": "stdout",
          "text": [
            "\n",
            "        Hi, how can I help you?\n",
            "        1 - Create PIN\n",
            "        2 - Change PIN\n",
            "        3 - Check Balance\n",
            "        4 - Withdraw\n",
            "        5 - Exit\n",
            "        1\n",
            "Enter your PIN: 1234\n",
            "Enter your balance: 10000\n",
            "PIN created successfully\n"
          ]
        }
      ]
    },
    {
      "cell_type": "code",
      "source": [
        "atm = ATM()\n",
        "atm.menu()\n",
        "\n"
      ],
      "metadata": {
        "colab": {
          "base_uri": "https://localhost:8080/"
        },
        "id": "DKwOBYiTE8FC",
        "outputId": "07557c2a-9fa0-44ad-9223-584d3c902dce"
      },
      "execution_count": null,
      "outputs": [
        {
          "name": "stdout",
          "output_type": "stream",
          "text": [
            "\n",
            "        Hi, how can I help you?\n",
            "        1 - Create PIN\n",
            "        2 - Change PIN\n",
            "        3 - Check Balance\n",
            "        4 - Withdraw\n",
            "        5 - Exit\n",
            "        3\n"
          ]
        }
      ]
    },
    {
      "cell_type": "code",
      "source": [
        "class Fraction:\n",
        "  def __init__(self,x,y):\n",
        "    self.num=x\n",
        "    self.den=y\n",
        "\n",
        "  def __str__(self):\n",
        "    return '{}/{}'.format(self.num,self.den)\n",
        "\n",
        "  def __add__(self,other):\n",
        "    new_num=self.num*other.den+other.num*self.den\n",
        "    new_den=self.den*other.den\n",
        "    return '{}/{}.format(new_num,new_den)'\n",
        "  def __sub__(self,other):\n",
        "    new_num=self.num*other.den+other.num*self.den\n",
        "    new_den=self.den*other.den\n",
        "    return '{}/{}.format(new_num,new_den)'\n",
        "  def __mul__(self,other):\n",
        "    new_num=self.num*other.num\n",
        "    new_den=self.den*other.den\n",
        "    return '{}/{}.format(new_num,new_den)'\n",
        "  def __truediv__(self,other):\n",
        "    new_num=self.num*other.num\n",
        "    new_den=self.den*other.den\n",
        "    return '{}/{}.format(new_num,new_den)'\n",
        "  def convert_to_decimal(self):\n",
        "    return self.num/self.den\n",
        "\n",
        ""
      ],
      "metadata": {
        "id": "AsP4PUjtFTJZ"
      },
      "execution_count": 22,
      "outputs": []
    },
    {
      "cell_type": "code",
      "source": [
        "fr1 = Fraction(3,4)\n",
        "fr2 = Fraction(1,2)"
      ],
      "metadata": {
        "id": "ZAlPIV3kbqol"
      },
      "execution_count": 23,
      "outputs": []
    },
    {
      "cell_type": "code",
      "source": [
        "fr1.convert_to_decimal()\n"
      ],
      "metadata": {
        "colab": {
          "base_uri": "https://localhost:8080/"
        },
        "id": "AevxfxfflMdB",
        "outputId": "751fc96e-b345-4661-a27c-fb327e878e1f"
      },
      "execution_count": 24,
      "outputs": [
        {
          "output_type": "execute_result",
          "data": {
            "text/plain": [
              "0.75"
            ]
          },
          "metadata": {},
          "execution_count": 24
        }
      ]
    },
    {
      "cell_type": "code",
      "source": [
        "print(fr1 + fr2)\n",
        "print(fr1 - fr2)\n",
        "print(fr1 * fr2)\n",
        "print(fr1 / fr2)"
      ],
      "metadata": {
        "colab": {
          "base_uri": "https://localhost:8080/"
        },
        "id": "yfPWjnQYlPqD",
        "outputId": "fe9b288f-fd18-45b7-94c2-115099e3b224"
      },
      "execution_count": 25,
      "outputs": [
        {
          "output_type": "stream",
          "name": "stdout",
          "text": [
            "{}/{}.format(new_num,new_den)\n",
            "{}/{}.format(new_num,new_den)\n",
            "{}/{}.format(new_num,new_den)\n",
            "{}/{}.format(new_num,new_den)\n"
          ]
        }
      ]
    },
    {
      "cell_type": "code",
      "source": [],
      "metadata": {
        "id": "IOnpl4pWlWzX"
      },
      "execution_count": null,
      "outputs": []
    }
  ]
}